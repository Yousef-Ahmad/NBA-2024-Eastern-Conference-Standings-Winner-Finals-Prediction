{
 "cells": [
  {
   "cell_type": "code",
   "execution_count": 4,
   "metadata": {},
   "outputs": [],
   "source": [
    "# Import necessary libraries\n",
    "import pandas as pd\n",
    "from sklearn.model_selection import train_test_split\n",
    "from sklearn.ensemble import RandomForestRegressor\n",
    "from sklearn.metrics import mean_squared_error\n",
    "import matplotlib.pylab as plt"
   ]
  },
  {
   "cell_type": "code",
   "execution_count": 5,
   "metadata": {},
   "outputs": [
    {
     "data": {
      "text/html": [
       "<div>\n",
       "<style scoped>\n",
       "    .dataframe tbody tr th:only-of-type {\n",
       "        vertical-align: middle;\n",
       "    }\n",
       "\n",
       "    .dataframe tbody tr th {\n",
       "        vertical-align: top;\n",
       "    }\n",
       "\n",
       "    .dataframe thead th {\n",
       "        text-align: right;\n",
       "    }\n",
       "</style>\n",
       "<table border=\"1\" class=\"dataframe\">\n",
       "  <thead>\n",
       "    <tr style=\"text-align: right;\">\n",
       "      <th></th>\n",
       "      <th>Club Name</th>\n",
       "      <th>W</th>\n",
       "      <th>L</th>\n",
       "      <th>W/L%</th>\n",
       "      <th>SOS</th>\n",
       "      <th>rSOS</th>\n",
       "      <th>SRS</th>\n",
       "      <th>Best</th>\n",
       "      <th>Worst</th>\n",
       "      <th>Win Finals</th>\n",
       "    </tr>\n",
       "  </thead>\n",
       "  <tbody>\n",
       "    <tr>\n",
       "      <th>0</th>\n",
       "      <td>Boston Celtics</td>\n",
       "      <td>58.5</td>\n",
       "      <td>21.5</td>\n",
       "      <td>0.731</td>\n",
       "      <td>3.28</td>\n",
       "      <td>-0.46</td>\n",
       "      <td>16.72</td>\n",
       "      <td>73-7</td>\n",
       "      <td>45-35</td>\n",
       "      <td>44.50%</td>\n",
       "    </tr>\n",
       "    <tr>\n",
       "      <th>1</th>\n",
       "      <td>Philadelphia 76ers</td>\n",
       "      <td>53.1</td>\n",
       "      <td>26.9</td>\n",
       "      <td>0.664</td>\n",
       "      <td>-0.06</td>\n",
       "      <td>0.13</td>\n",
       "      <td>11.19</td>\n",
       "      <td>68-12</td>\n",
       "      <td>37-43</td>\n",
       "      <td>14.20%</td>\n",
       "    </tr>\n",
       "    <tr>\n",
       "      <th>2</th>\n",
       "      <td>New York Knicks</td>\n",
       "      <td>44.7</td>\n",
       "      <td>35.3</td>\n",
       "      <td>0.559</td>\n",
       "      <td>0.84</td>\n",
       "      <td>0.39</td>\n",
       "      <td>5.22</td>\n",
       "      <td>60-20</td>\n",
       "      <td>30-50</td>\n",
       "      <td>2.10%</td>\n",
       "    </tr>\n",
       "    <tr>\n",
       "      <th>3</th>\n",
       "      <td>Atlanta Hawks</td>\n",
       "      <td>43.8</td>\n",
       "      <td>36.2</td>\n",
       "      <td>0.547</td>\n",
       "      <td>0.13</td>\n",
       "      <td>0.39</td>\n",
       "      <td>3.46</td>\n",
       "      <td>58-22</td>\n",
       "      <td>28-52</td>\n",
       "      <td>1.10%</td>\n",
       "    </tr>\n",
       "    <tr>\n",
       "      <th>4</th>\n",
       "      <td>Indiana Pacers</td>\n",
       "      <td>43.3</td>\n",
       "      <td>36.7</td>\n",
       "      <td>0.541</td>\n",
       "      <td>-1.91</td>\n",
       "      <td>0.61</td>\n",
       "      <td>2.54</td>\n",
       "      <td>58-22</td>\n",
       "      <td>29-51</td>\n",
       "      <td>0.90%</td>\n",
       "    </tr>\n",
       "  </tbody>\n",
       "</table>\n",
       "</div>"
      ],
      "text/plain": [
       "            Club Name     W     L   W/L%   SOS  rSOS    SRS   Best  Worst  \\\n",
       "0      Boston Celtics  58.5  21.5  0.731  3.28 -0.46  16.72   73-7  45-35   \n",
       "1  Philadelphia 76ers  53.1  26.9  0.664 -0.06  0.13  11.19  68-12  37-43   \n",
       "2     New York Knicks  44.7  35.3  0.559  0.84  0.39   5.22  60-20  30-50   \n",
       "3       Atlanta Hawks  43.8  36.2  0.547  0.13  0.39   3.46  58-22  28-52   \n",
       "4      Indiana Pacers  43.3  36.7  0.541 -1.91  0.61   2.54  58-22  29-51   \n",
       "\n",
       "  Win Finals  \n",
       "0     44.50%  \n",
       "1     14.20%  \n",
       "2      2.10%  \n",
       "3      1.10%  \n",
       "4      0.90%  "
      ]
     },
     "execution_count": 5,
     "metadata": {},
     "output_type": "execute_result"
    }
   ],
   "source": [
    "#Read The CVS File\n",
    "file_path = r\"C:\\Users\\youse\\Desktop\\ML Project\\NBA Eastern Conference Final WinPrediction\\NBA_2024_Eastern_Conference_Standing.csv\"\n",
    "df = pd.read_csv(file_path)\n",
    "df.head()"
   ]
  },
  {
   "cell_type": "code",
   "execution_count": 6,
   "metadata": {},
   "outputs": [
    {
     "name": "stdout",
     "output_type": "stream",
     "text": [
      "Features Matrix (X) shape: (15, 8)\n",
      "Target Vector (y) shape: (15,)\n"
     ]
    }
   ],
   "source": [
    "features = df[['W', 'L', 'W/L%', 'SOS', 'rSOS', 'SRS', 'Best', 'Worst']]\n",
    "\n",
    "X = features  # Features (features matrix)\n",
    "y = df['Win Finals']  # Target (target vector)\n",
    "\n",
    "# Split the data into training and testing sets\n",
    "X_train, X_test, y_train, y_test = train_test_split(X, y, test_size=0.2, random_state=42)\n",
    "\n",
    "# Display the shapes of the features matrix and target vector\n",
    "print(\"Features Matrix (X) shape:\", X.shape)\n",
    "print(\"Target Vector (y) shape:\", y.shape)\n"
   ]
  },
  {
   "cell_type": "code",
   "execution_count": 7,
   "metadata": {},
   "outputs": [
    {
     "name": "stdout",
     "output_type": "stream",
     "text": [
      "\n",
      "First few rows of Features Matrix (X):\n",
      "       W     L   W/L%   SOS  rSOS    SRS   Best  Worst\n",
      "0  58.5  21.5  0.731  3.28 -0.46  16.72   73-7  45-35\n",
      "1  53.1  26.9  0.664 -0.06  0.13  11.19  68-12  37-43\n",
      "2  44.7  35.3  0.559  0.84  0.39   5.22  60-20  30-50\n",
      "3  43.8  36.2  0.547  0.13  0.39   3.46  58-22  28-52\n",
      "4  43.3  36.7  0.541 -1.91  0.61   2.54  58-22  29-51\n",
      "\n",
      "First few rows of Target Vector (y):\n",
      " 0    44.50%\n",
      "1    14.20%\n",
      "2     2.10%\n",
      "3     1.10%\n",
      "4     0.90%\n",
      "Name: Win Finals, dtype: object\n"
     ]
    }
   ],
   "source": [
    "# Display the first few rows of the features matrix and target vector\n",
    "print(\"\\nFirst few rows of Features Matrix (X):\\n\", X.head())\n",
    "print(\"\\nFirst few rows of Target Vector (y):\\n\", y.head())"
   ]
  },
  {
   "cell_type": "code",
   "execution_count": 8,
   "metadata": {},
   "outputs": [
    {
     "data": {
      "text/plain": [
       "(15, 10)"
      ]
     },
     "execution_count": 8,
     "metadata": {},
     "output_type": "execute_result"
    }
   ],
   "source": [
    "df.shape"
   ]
  },
  {
   "cell_type": "code",
   "execution_count": 9,
   "metadata": {},
   "outputs": [
    {
     "data": {
      "text/plain": [
       "Club Name     0\n",
       "W             0\n",
       "L             0\n",
       "W/L%          0\n",
       "SOS           0\n",
       "rSOS          0\n",
       "SRS           0\n",
       "Best          0\n",
       "Worst         0\n",
       "Win Finals    0\n",
       "dtype: int64"
      ]
     },
     "execution_count": 9,
     "metadata": {},
     "output_type": "execute_result"
    }
   ],
   "source": [
    "df.isnull().sum()\n"
   ]
  },
  {
   "cell_type": "code",
   "execution_count": 10,
   "metadata": {},
   "outputs": [
    {
     "data": {
      "text/html": [
       "<style>#sk-container-id-1 {color: black;}#sk-container-id-1 pre{padding: 0;}#sk-container-id-1 div.sk-toggleable {background-color: white;}#sk-container-id-1 label.sk-toggleable__label {cursor: pointer;display: block;width: 100%;margin-bottom: 0;padding: 0.3em;box-sizing: border-box;text-align: center;}#sk-container-id-1 label.sk-toggleable__label-arrow:before {content: \"▸\";float: left;margin-right: 0.25em;color: #696969;}#sk-container-id-1 label.sk-toggleable__label-arrow:hover:before {color: black;}#sk-container-id-1 div.sk-estimator:hover label.sk-toggleable__label-arrow:before {color: black;}#sk-container-id-1 div.sk-toggleable__content {max-height: 0;max-width: 0;overflow: hidden;text-align: left;background-color: #f0f8ff;}#sk-container-id-1 div.sk-toggleable__content pre {margin: 0.2em;color: black;border-radius: 0.25em;background-color: #f0f8ff;}#sk-container-id-1 input.sk-toggleable__control:checked~div.sk-toggleable__content {max-height: 200px;max-width: 100%;overflow: auto;}#sk-container-id-1 input.sk-toggleable__control:checked~label.sk-toggleable__label-arrow:before {content: \"▾\";}#sk-container-id-1 div.sk-estimator input.sk-toggleable__control:checked~label.sk-toggleable__label {background-color: #d4ebff;}#sk-container-id-1 div.sk-label input.sk-toggleable__control:checked~label.sk-toggleable__label {background-color: #d4ebff;}#sk-container-id-1 input.sk-hidden--visually {border: 0;clip: rect(1px 1px 1px 1px);clip: rect(1px, 1px, 1px, 1px);height: 1px;margin: -1px;overflow: hidden;padding: 0;position: absolute;width: 1px;}#sk-container-id-1 div.sk-estimator {font-family: monospace;background-color: #f0f8ff;border: 1px dotted black;border-radius: 0.25em;box-sizing: border-box;margin-bottom: 0.5em;}#sk-container-id-1 div.sk-estimator:hover {background-color: #d4ebff;}#sk-container-id-1 div.sk-parallel-item::after {content: \"\";width: 100%;border-bottom: 1px solid gray;flex-grow: 1;}#sk-container-id-1 div.sk-label:hover label.sk-toggleable__label {background-color: #d4ebff;}#sk-container-id-1 div.sk-serial::before {content: \"\";position: absolute;border-left: 1px solid gray;box-sizing: border-box;top: 0;bottom: 0;left: 50%;z-index: 0;}#sk-container-id-1 div.sk-serial {display: flex;flex-direction: column;align-items: center;background-color: white;padding-right: 0.2em;padding-left: 0.2em;position: relative;}#sk-container-id-1 div.sk-item {position: relative;z-index: 1;}#sk-container-id-1 div.sk-parallel {display: flex;align-items: stretch;justify-content: center;background-color: white;position: relative;}#sk-container-id-1 div.sk-item::before, #sk-container-id-1 div.sk-parallel-item::before {content: \"\";position: absolute;border-left: 1px solid gray;box-sizing: border-box;top: 0;bottom: 0;left: 50%;z-index: -1;}#sk-container-id-1 div.sk-parallel-item {display: flex;flex-direction: column;z-index: 1;position: relative;background-color: white;}#sk-container-id-1 div.sk-parallel-item:first-child::after {align-self: flex-end;width: 50%;}#sk-container-id-1 div.sk-parallel-item:last-child::after {align-self: flex-start;width: 50%;}#sk-container-id-1 div.sk-parallel-item:only-child::after {width: 0;}#sk-container-id-1 div.sk-dashed-wrapped {border: 1px dashed gray;margin: 0 0.4em 0.5em 0.4em;box-sizing: border-box;padding-bottom: 0.4em;background-color: white;}#sk-container-id-1 div.sk-label label {font-family: monospace;font-weight: bold;display: inline-block;line-height: 1.2em;}#sk-container-id-1 div.sk-label-container {text-align: center;}#sk-container-id-1 div.sk-container {/* jupyter's `normalize.less` sets `[hidden] { display: none; }` but bootstrap.min.css set `[hidden] { display: none !important; }` so we also need the `!important` here to be able to override the default hidden behavior on the sphinx rendered scikit-learn.org. See: https://github.com/scikit-learn/scikit-learn/issues/21755 */display: inline-block !important;position: relative;}#sk-container-id-1 div.sk-text-repr-fallback {display: none;}</style><div id=\"sk-container-id-1\" class=\"sk-top-container\"><div class=\"sk-text-repr-fallback\"><pre>RandomForestRegressor(random_state=42)</pre><b>In a Jupyter environment, please rerun this cell to show the HTML representation or trust the notebook. <br />On GitHub, the HTML representation is unable to render, please try loading this page with nbviewer.org.</b></div><div class=\"sk-container\" hidden><div class=\"sk-item\"><div class=\"sk-estimator sk-toggleable\"><input class=\"sk-toggleable__control sk-hidden--visually\" id=\"sk-estimator-id-1\" type=\"checkbox\" checked><label for=\"sk-estimator-id-1\" class=\"sk-toggleable__label sk-toggleable__label-arrow\">RandomForestRegressor</label><div class=\"sk-toggleable__content\"><pre>RandomForestRegressor(random_state=42)</pre></div></div></div></div></div>"
      ],
      "text/plain": [
       "RandomForestRegressor(random_state=42)"
      ]
     },
     "execution_count": 10,
     "metadata": {},
     "output_type": "execute_result"
    }
   ],
   "source": [
    "import numpy as np\n",
    "from sklearn.ensemble import RandomForestClassifier\n",
    "# Convert 'Best' and 'Worst' columns to numeric values\n",
    "df['Best'] = df['Best'].apply(lambda x: np.mean(list(map(int, x.split('-')))) if isinstance(x, str) else x)\n",
    "df['Worst'] = df['Worst'].apply(lambda x: np.mean(list(map(int, x.split('-')))) if isinstance(x, str) else x)\n",
    "\n",
    "features = df[['W', 'L', 'SOS', 'rSOS', 'SRS', 'Best', 'Worst']]\n",
    "X = features\n",
    "y = df['W/L%']\n",
    "\n",
    "# Split the data into training and testing sets\n",
    "X_train, X_test, y_train, y_test = train_test_split(X, y, test_size=0.2, random_state=42)\n",
    "\n",
    "# Create and train a Random Forest Regressor\n",
    "model = RandomForestRegressor(n_estimators=100, random_state=42)\n",
    "model.fit(X_train, y_train)\n"
   ]
  },
  {
   "cell_type": "code",
   "execution_count": 11,
   "metadata": {},
   "outputs": [
    {
     "name": "stdout",
     "output_type": "stream",
     "text": [
      "0.7534065600267553\n"
     ]
    }
   ],
   "source": [
    "# Test the model on the testing set and evaluate the performance\n",
    "score = model.score(X_test, y_test)\n",
    "print(score)"
   ]
  },
  {
   "cell_type": "code",
   "execution_count": 12,
   "metadata": {},
   "outputs": [
    {
     "name": "stdout",
     "output_type": "stream",
     "text": [
      "Mean Squared Error: 0.0044243794999999555\n"
     ]
    },
    {
     "data": {
      "image/png": "[encoded data removed]",
      "text/plain": [
       "<Figure size 640x480 with 1 Axes>"
      ]
     },
     "metadata": {},
     "output_type": "display_data"
    }
   ],
   "source": [
    "from sklearn.metrics import mean_squared_error\n",
    "import matplotlib.pyplot as plt\n",
    "import seaborn as sns\n",
    "\n",
    "# Make predictions on the testing set\n",
    "predictions = model.predict(X_test)\n",
    "\n",
    "# Evaluate the model using Mean Squared Error\n",
    "mse = mean_squared_error(y_test, predictions)\n",
    "print(f\"Mean Squared Error: {mse}\")\n",
    "\n",
    "# Visualization (you can customize this based on your preferences)\n",
    "plt.scatter(y_test, predictions)\n",
    "plt.xlabel(\"True Values\")\n",
    "plt.ylabel(\"Predictions\")\n",
    "plt.title(\"True Values vs Predictions\")\n",
    "plt.show()\n"
   ]
  },
  {
   "cell_type": "code",
   "execution_count": 13,
   "metadata": {},
   "outputs": [
    {
     "name": "stdout",
     "output_type": "stream",
     "text": [
      "Index(['Club Name', 'W', 'L', 'W/L%', 'SOS', 'rSOS', 'SRS', 'Best', 'Worst',\n",
      "       'Win Finals'],\n",
      "      dtype='object')\n"
     ]
    }
   ],
   "source": [
    "print(df.columns)\n"
   ]
  },
  {
   "cell_type": "code",
   "execution_count": 14,
   "metadata": {},
   "outputs": [
    {
     "name": "stdout",
     "output_type": "stream",
     "text": [
      "         Club Name  Predicted_W/L%\n",
      "9       Miami Heat         0.49933\n",
      "11   Chicago Bulls         0.43960\n",
      "0   Boston Celtics         0.61836\n"
     ]
    }
   ],
   "source": [
    "# Assuming 'df' is your DataFrame\n",
    "# Convert 'Best' and 'Worst' columns to numeric values\n",
    "df['Best'] = df['Best'].apply(lambda x: np.mean(list(map(int, x.split('-')))) if isinstance(x, str) else x)\n",
    "df['Worst'] = df['Worst'].apply(lambda x: np.mean(list(map(int, x.split('-')))) if isinstance(x, str) else x)\n",
    "\n",
    "# Features and target\n",
    "features = df[['W', 'L', 'SOS', 'rSOS', 'SRS', 'Best', 'Worst']]\n",
    "target = df['W/L%']\n",
    "\n",
    "# Split the data into training and testing sets\n",
    "X_train, X_test, y_train, y_test = train_test_split(features, target, test_size=0.2, random_state=42)\n",
    "\n",
    "# Remember the club names for later use\n",
    "train_club_names = df.loc[X_train.index, 'Club Name']\n",
    "test_club_names = df.loc[X_test.index, 'Club Name']\n",
    "\n",
    "# Create and train a Random Forest Regressor\n",
    "model = RandomForestRegressor(n_estimators=100, random_state=42)\n",
    "model.fit(X_train, y_train)\n",
    "\n",
    "# Make predictions on the testing set\n",
    "predictions = model.predict(X_test)\n",
    "\n",
    "# Create a new DataFrame with Club names and predictions\n",
    "predictions_df = pd.DataFrame({'Club Name': test_club_names, 'Predicted_W/L%': predictions})\n",
    "\n",
    "# Print the predictions for each Club\n",
    "print(predictions_df)\n"
   ]
  },
  {
   "cell_type": "code",
   "execution_count": 15,
   "metadata": {},
   "outputs": [
    {
     "name": "stdout",
     "output_type": "stream",
     "text": [
      "The team that will win the finals is Boston Celtics.\n"
     ]
    }
   ],
   "source": [
    "# Find the team with the highest predicted value\n",
    "winning_team = predictions_df.loc[predictions_df['Predicted_W/L%'].idxmax(), 'Club Name']\n",
    "\n",
    "# Display the message\n",
    "print(f\"The team that will win the finals is {winning_team}.\")\n"
   ]
  }
 ],
 "metadata": {
  "kernelspec": {
   "display_name": "Python 3",
   "language": "python",
   "name": "python3"
  },
  "language_info": {
   "codemirror_mode": {
    "name": "ipython",
    "version": 3
   },
   "file_extension": ".py",
   "mimetype": "text/x-python",
   "name": "python",
   "nbconvert_exporter": "python",
   "pygments_lexer": "ipython3",
   "version": "3.11.5"
  }
 },
 "nbformat": 4,
 "nbformat_minor": 2
}
